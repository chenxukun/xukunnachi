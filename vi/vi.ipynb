{
 "cells": [
  {
   "cell_type": "code",
   "execution_count": 4,
   "metadata": {
    "collapsed": true
   },
   "outputs": [],
   "source": [
    "from io_data import read_data, write_data,write_img\n",
    "import cv2\n",
    "import numpy as np\n",
    "from scipy.stats import norm\n",
    "from math import log, exp\n"
   ]
  },
  {
   "cell_type": "code",
   "execution_count": 5,
   "metadata": {},
   "outputs": [
    {
     "data": {
      "text/plain": [
       "(100, 100, 1)"
      ]
     },
     "execution_count": 5,
     "metadata": {},
     "output_type": "execute_result"
    }
   ],
   "source": [
    "data,img = read_data('../a1/4_noise.txt',True,save=True)\n",
    "img.shape"
   ]
  },
  {
   "cell_type": "code",
   "execution_count": 45,
   "metadata": {
    "collapsed": true
   },
   "outputs": [],
   "source": [
    "class VI:\n",
    "    def __init__(self,img):\n",
    "        self.width = img.shape[0]\n",
    "        self.height = img.shape[1]\n",
    "        self.img = img\n",
    "\n",
    "        self.mus = np.ones((img.shape[0],img.shape[1]))*0.5#bernouli\n",
    "        self.J = 2 #coupling strength\n",
    "        self.vari = 1\n",
    "        \n",
    "    def neighbours(self,x,y):\n",
    "        n=[]\n",
    "        if (not x==0):\n",
    "            n.append((x-1,y))\n",
    "        if (not x==self.width-1):\n",
    "            n.append((x+1,y))\n",
    "        if (not y==0):\n",
    "            n.append((x,y-1))\n",
    "        if (not y==self.height-1):\n",
    "            n.append((x,y+1))\n",
    "            \n",
    "        return n\n",
    "\n",
    "    def pairwisePotential(self,p1,p2):\n",
    "        (x1,y1) = p1\n",
    "        (x2,y2) = p2\n",
    "        xs = self.img[x1][y1]\n",
    "        xt = self.img[x2][y2]\n",
    "        xs = 1*(xs>125)+(-1)*(xs<125)\n",
    "        xt = 1*(xt>125)+(-1)*(xt<125)\n",
    "\n",
    "        return (self.J*xs*xt,self.J*(-xs)*xt)\n",
    "    \n",
    "    def viprocess(self,name,n=1):\n",
    "\n",
    "        elbolst = []\n",
    "        counter = 0\n",
    "        for i in range(n):\n",
    "            elbo=0\n",
    "            for x in range(self.img.shape[0]):\n",
    "                for y in range(self.img.shape[1]):\n",
    "                    if(counter%70000==0):\n",
    "                        print(counter)\n",
    "                    counter+=1\n",
    "                    xs = self.img[x][y]\n",
    "                    xs = 1*(xs>125)+(-1)*(xs<125)\n",
    "                    \n",
    "                    obv = self.img[x][y]\n",
    "                    obv = 1*(obv>125)+(-1)*(obv<125)\n",
    "\n",
    "\n",
    "#                     if(i==0):\n",
    "#                         self.mus[x][y] = 0.9*(xs==1)+0.1*(xs==-1)\n",
    "                    \n",
    "                    pairwise = [self.pairwisePotential((x,y),p) for p in self.neighbours(x,y)]\n",
    "                    firstPairwise = exp(sum([x[0] for x in pairwise]))\n",
    "                    secondPairwise = exp(sum([x[1] for x in pairwise]))\n",
    "                    pairwiseSum = firstPairwise+secondPairwise\n",
    "                    firstPairwise/=pairwiseSum\n",
    "                    secondPairwise/=pairwiseSum\n",
    "                    #print('pair ',firstPairwise,secondPairwise)\n",
    "                    \n",
    "                    pxi = firstPairwise\n",
    "                    pyilxi=exp(-log(norm(xs, self.vari).pdf(obv)))\n",
    "                    pyixi=pxi*pyilxi\n",
    "                    \n",
    "                    pxineg = secondPairwise\n",
    "                    pyilxineg=exp(-log(norm((-xs), self.vari).pdf(obv)))\n",
    "                    pyixineg=pxineg*pyilxineg\n",
    "                    \n",
    "                    mu = self.mus[x][y] #mu == p\n",
    "                   # l= mu*log(pyixi/mu) +(1-mu)*log(pyixineg/(1-mu))\n",
    "                    \n",
    "                    #l'=ln(p(yx=1)/mu)=ln(p(yx=-1)/(1-mu))=0 (1-mu)/mu == p(yx-1)/p(yx1)\n",
    "                    up = pyixi\n",
    "                    down = pyixineg\n",
    " \n",
    "                    if(xs == 1):\n",
    "                        up=pyixineg\n",
    "                        down=pyixi\n",
    "                    \n",
    "                    ratio = up/down\n",
    "                    newmu = 1/(ratio+1)\n",
    "                    \n",
    "                    self.mus[x][y] = newmu\n",
    "\n",
    "                    \n",
    "                  #  elbo += l\n",
    "                    \n",
    "            for x in range(self.img.shape[0]):\n",
    "                for y in range(self.img.shape[1]):\n",
    "                    if (np.random.random()>self.mus[x][y]):\n",
    "                        self.img[x][y] = 0\n",
    "                    else:\n",
    "                        self.img[x][y] = 255 \n",
    "                    \n",
    "            elbolst.append(elbo)\n",
    "            write_img(img,name+str(i))\n",
    "        return elbolst\n",
    "    \n",
    "    "
   ]
  },
  {
   "cell_type": "code",
   "execution_count": 46,
   "metadata": {
    "collapsed": true
   },
   "outputs": [],
   "source": [
    "def VIDenoise(img,name,loops=100):\n",
    "    vi = VI(img)\n",
    "    return vi.viprocess(name,n=5),vi"
   ]
  },
  {
   "cell_type": "code",
   "execution_count": 47,
   "metadata": {},
   "outputs": [
    {
     "name": "stdout",
     "output_type": "stream",
     "text": [
      "0\n",
      "70000\n",
      "140000\n",
      "210000\n",
      "280000\n",
      "350000\n",
      "420000\n",
      "490000\n",
      "560000\n",
      "630000\n",
      "700000\n",
      "770000\n",
      "840000\n",
      "910000\n",
      "980000\n",
      "0\n",
      "70000\n",
      "140000\n",
      "210000\n",
      "280000\n",
      "350000\n",
      "420000\n",
      "490000\n",
      "560000\n",
      "630000\n",
      "700000\n",
      "770000\n",
      "0\n",
      "70000\n",
      "140000\n",
      "210000\n",
      "280000\n",
      "350000\n",
      "420000\n",
      "490000\n",
      "560000\n",
      "630000\n",
      "700000\n",
      "0\n"
     ]
    }
   ],
   "source": [
    "data,img = read_data('../a1/1_noise.txt',True,save=True)\n",
    "elbos,vi = VIDenoise(img, 'vi_noise1_',loops = img.shape[0]*img.shape[1]*5)\n",
    "write_img(img,'1_result_vi')\n",
    "\n",
    "data,img = read_data('../a1/2_noise.txt',True,save=True)\n",
    "elbos,vi = VIDenoise(img, 'vi_noise2_',loops = img.shape[0]*img.shape[1]*5)\n",
    "write_img(img,'2_result_vi')\n",
    "\n",
    "data,img = read_data('../a1/3_noise.txt',True,save=True)\n",
    "elbos,vi = VIDenoise(img, 'vi_noise3_',loops = img.shape[0]*img.shape[1]*5)\n",
    "write_img(img,'3_result_vi')\n",
    "\n",
    "data,img = read_data('../a1/4_noise.txt',True,save=True)\n",
    "elbos,vi = VIDenoise(img, 'vi_noise4_',loops = img.shape[0]*img.shape[1]*5)\n",
    "write_img(img,'4_result_vi')"
   ]
  },
  {
   "cell_type": "code",
   "execution_count": 133,
   "metadata": {},
   "outputs": [
    {
     "data": {
      "text/plain": [
       "[-69848.82578015336]"
      ]
     },
     "execution_count": 133,
     "metadata": {},
     "output_type": "execute_result"
    }
   ],
   "source": [
    "elbos"
   ]
  },
  {
   "cell_type": "code",
   "execution_count": 15,
   "metadata": {},
   "outputs": [
    {
     "ename": "ValueError",
     "evalue": "math domain error",
     "output_type": "error",
     "traceback": [
      "\u001b[1;31m---------------------------------------------------------------------------\u001b[0m",
      "\u001b[1;31mValueError\u001b[0m                                Traceback (most recent call last)",
      "\u001b[1;32m<ipython-input-15-41855169c3a1>\u001b[0m in \u001b[0;36m<module>\u001b[1;34m()\u001b[0m\n\u001b[1;32m----> 1\u001b[1;33m \u001b[0mlog\u001b[0m\u001b[1;33m(\u001b[0m\u001b[1;36m0\u001b[0m\u001b[1;33m)\u001b[0m\u001b[1;33m\u001b[0m\u001b[0m\n\u001b[0m",
      "\u001b[1;31mValueError\u001b[0m: math domain error"
     ]
    }
   ],
   "source": [
    "log(0)"
   ]
  },
  {
   "cell_type": "code",
   "execution_count": null,
   "metadata": {
    "collapsed": true
   },
   "outputs": [],
   "source": []
  }
 ],
 "metadata": {
  "kernelspec": {
   "display_name": "Python 3",
   "language": "python",
   "name": "python3"
  },
  "language_info": {
   "codemirror_mode": {
    "name": "ipython",
    "version": 3
   },
   "file_extension": ".py",
   "mimetype": "text/x-python",
   "name": "python",
   "nbconvert_exporter": "python",
   "pygments_lexer": "ipython3",
   "version": "3.6.3"
  }
 },
 "nbformat": 4,
 "nbformat_minor": 2
}
