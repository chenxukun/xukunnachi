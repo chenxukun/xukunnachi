{
 "cells": [
  {
   "cell_type": "code",
   "execution_count": 1,
   "metadata": {
    "collapsed": true
   },
   "outputs": [],
   "source": [
    "from io_data import read_data, write_data,write_img\n",
    "import cv2\n",
    "import numpy as np\n",
    "from scipy.stats import norm\n",
    "from math import log, exp\n"
   ]
  },
  {
   "cell_type": "code",
   "execution_count": 17,
   "metadata": {},
   "outputs": [
    {
     "data": {
      "text/plain": [
       "1.1111111111111112"
      ]
     },
     "execution_count": 17,
     "metadata": {},
     "output_type": "execute_result"
    }
   ],
   "source": [
    "norm(-1,1).pdf(1)\n",
    "exp(-0.9)\n",
    "exp(-log(0.9))"
   ]
  },
  {
   "cell_type": "code",
   "execution_count": 36,
   "metadata": {
    "collapsed": true
   },
   "outputs": [],
   "source": [
    "class Gibbs:\n",
    "    def __init__(self,img):\n",
    "        self.width = img.shape[0]\n",
    "        self.height = img.shape[1]\n",
    "        self.img = img\n",
    "        self.J = 2\n",
    "        self.vari = 1\n",
    "        \n",
    "    def neighbours(self,x,y):\n",
    "        n=[]\n",
    "        if (not x==0):\n",
    "            n.append((x-1,y))\n",
    "        if (not x==self.width-1):\n",
    "            n.append((x+1,y))\n",
    "        if (not y==0):\n",
    "            n.append((x,y-1))\n",
    "        if (not y==self.height-1):\n",
    "            n.append((x,y+1))\n",
    "            \n",
    "        return n\n",
    "    \n",
    "    def localEvidence(self,x,y):\n",
    "        xs=1\n",
    "        if(self.img[x][y]==0):\n",
    "            xs = -1\n",
    "            \n",
    "        obv = xs\n",
    "        return (norm(xs, self.vari).pdf(obv),norm(-xs, self.vari).pdf(obv))\n",
    "        \n",
    "        \n",
    "    def pairwisePotential(self,p1,p2):\n",
    "        (x1,y1) = p1\n",
    "        (x2,y2) = p2\n",
    "        xs = self.img[x1][y1]\n",
    "        xt = self.img[x2][y2]\n",
    "        if(xs == 255):\n",
    "            xs=1\n",
    "        else:\n",
    "            xs=-1\n",
    "        if(xt == 255):\n",
    "            xt=1\n",
    "        else:\n",
    "            xt=-1\n",
    "        return (np.exp(self.J*xs*xt),np.exp(self.J*(-xs)*xt))\n",
    "        \n",
    "    \n",
    "    def gibbs_move(self,n):\n",
    "#         n = np.random.randint(0,self.width*self.height)\n",
    "#         y = n//self.width\n",
    "#         x= n%self.width\n",
    "        n = n%(self.width*self.height)\n",
    "        y = n//self.width\n",
    "        x = n%self.width\n",
    "        localEvidence,negLocalEvidence = self.localEvidence(x,y)\n",
    "        #neighbours = self.neighbours(x,y)\n",
    "        pairwise = [self.pairwisePotential((x,y),p) for p in self.neighbours(x,y)]\n",
    "        firstPairwise = exp(sum(map(log,[x[0] for x in pairwise])))\n",
    "        secondPairwise = exp(sum(map(log,[x[1] for x in pairwise])))\n",
    "        \n",
    "        firstPartP = localEvidence*firstPairwise\n",
    "        secondPartP = negLocalEvidence*secondPairwise\n",
    "        \n",
    "        prob = firstPartP / (firstPartP+secondPartP)\n",
    "        #print(prob,np.random.random())\n",
    "\n",
    "        if (np.random.random()>prob):\n",
    "            #print('change ',x,y)\n",
    "            if(np.sign(self.img[x][y][0]-125)==1):\n",
    "                self.img[x][y][0] = 0\n",
    "            else:\n",
    "                self.img[x][y][0] = 255\n",
    "            "
   ]
  },
  {
   "cell_type": "code",
   "execution_count": 40,
   "metadata": {
    "collapsed": true
   },
   "outputs": [],
   "source": [
    "def GibbsDenoise(img,name,loops=205209):\n",
    "    print('loop-',loops)\n",
    "    gb = Gibbs(img)\n",
    "#     for i in range(burnin):\n",
    "#         if(i%1000==0):\n",
    "#             print('burn num ',i)\n",
    "#         gb.gibbs_move()\n",
    "    for i in range(loops):\n",
    "        if(i%70000==0):\n",
    "            print('move num ',i)\n",
    "        gb.gibbs_move(i)\n",
    "        if(i%(img.shape[0]*img.shape[1])==0 and i>0):\n",
    "            write_img(img,name+str(i/(img.shape[0]*img.shape[1])))\n",
    "    \n",
    "    \n",
    "    return img"
   ]
  },
  {
   "cell_type": "code",
   "execution_count": 41,
   "metadata": {},
   "outputs": [
    {
     "data": {
      "text/plain": [
       "(342, 481, 1)"
      ]
     },
     "execution_count": 41,
     "metadata": {},
     "output_type": "execute_result"
    }
   ],
   "source": [
    "data,img = read_data('../a1/2_noise.txt',True,save=True)\n",
    "img.shape"
   ]
  },
  {
   "cell_type": "code",
   "execution_count": 42,
   "metadata": {},
   "outputs": [
    {
     "name": "stdout",
     "output_type": "stream",
     "text": [
      "loop- 1026045\n",
      "move num  0\n",
      "move num  70000\n",
      "move num  140000\n",
      "move num  210000\n",
      "move num  280000\n",
      "move num  350000\n",
      "move num  420000\n",
      "move num  490000\n",
      "move num  560000\n",
      "move num  630000\n",
      "move num  700000\n",
      "move num  770000\n",
      "move num  840000\n",
      "move num  910000\n",
      "move num  980000\n",
      "done\n",
      "loop- 822510\n",
      "move num  0\n",
      "move num  70000\n",
      "move num  140000\n",
      "move num  210000\n",
      "move num  280000\n",
      "move num  350000\n",
      "move num  420000\n",
      "move num  490000\n",
      "move num  560000\n",
      "move num  630000\n",
      "move num  700000\n",
      "move num  770000\n",
      "done\n",
      "loop- 733445\n",
      "move num  0\n",
      "move num  70000\n",
      "move num  140000\n",
      "move num  210000\n",
      "move num  280000\n",
      "move num  350000\n",
      "move num  420000\n",
      "move num  490000\n",
      "move num  560000\n",
      "move num  630000\n",
      "move num  700000\n",
      "done\n",
      "loop- 50000\n",
      "move num  0\n",
      "done\n"
     ]
    }
   ],
   "source": [
    "data,img = read_data('../a1/1_noise.txt',True,save=True)\n",
    "GibbsDenoise(img,'gib_noise1_',loops = img.shape[0]*img.shape[1]*5)\n",
    "print('done')\n",
    "write_img(img,'1_result_gib')\n",
    "\n",
    "data,img = read_data('../a1/2_noise.txt',True,save=True)\n",
    "GibbsDenoise(img,'gib_noise2_',loops = img.shape[0]*img.shape[1]*5)\n",
    "print('done')\n",
    "write_img(img,'2_result_gib')\n",
    "\n",
    "data,img = read_data('../a1/3_noise.txt',True,save=True)\n",
    "GibbsDenoise(img,'gib_noise3_',loops = img.shape[0]*img.shape[1]*5)\n",
    "print('done')\n",
    "write_img(img,'3_result_gib')\n",
    "\n",
    "data,img = read_data('../a1/4_noise.txt',True,save=True)\n",
    "GibbsDenoise(img,'gib_noise4_',loops = img.shape[0]*img.shape[1]*5)\n",
    "print('done')\n",
    "write_img(img,'4_result_gib')\n",
    "\n"
   ]
  },
  {
   "cell_type": "code",
   "execution_count": null,
   "metadata": {
    "collapsed": true
   },
   "outputs": [],
   "source": [
    "img.shape\n",
    "383**2"
   ]
  },
  {
   "cell_type": "code",
   "execution_count": 16,
   "metadata": {},
   "outputs": [
    {
     "data": {
      "text/plain": [
       "array([0., 3., 0.], dtype=float32)"
      ]
     },
     "execution_count": 16,
     "metadata": {},
     "output_type": "execute_result"
    }
   ],
   "source": [
    "data[3]"
   ]
  },
  {
   "cell_type": "code",
   "execution_count": 10,
   "metadata": {},
   "outputs": [
    {
     "data": {
      "text/plain": [
       "0.3989422804014327"
      ]
     },
     "execution_count": 10,
     "metadata": {},
     "output_type": "execute_result"
    }
   ],
   "source": [
    "import scipy.stats\n",
    "scipy.stats.norm(1, 1).pdf(1)"
   ]
  },
  {
   "cell_type": "code",
   "execution_count": 31,
   "metadata": {},
   "outputs": [
    {
     "data": {
      "text/plain": [
       "[2, 4]"
      ]
     },
     "execution_count": 31,
     "metadata": {},
     "output_type": "execute_result"
    }
   ],
   "source": [
    "a=[(1,2),(3,4)]\n",
    "[x[1] for x in a]"
   ]
  },
  {
   "cell_type": "code",
   "execution_count": 14,
   "metadata": {},
   "outputs": [
    {
     "data": {
      "text/plain": [
       "1"
      ]
     },
     "execution_count": 14,
     "metadata": {},
     "output_type": "execute_result"
    }
   ],
   "source": [
    "np.sign(10)"
   ]
  },
  {
   "cell_type": "code",
   "execution_count": null,
   "metadata": {
    "collapsed": true
   },
   "outputs": [],
   "source": []
  }
 ],
 "metadata": {
  "kernelspec": {
   "display_name": "Python 3",
   "language": "python",
   "name": "python3"
  },
  "language_info": {
   "codemirror_mode": {
    "name": "ipython",
    "version": 3
   },
   "file_extension": ".py",
   "mimetype": "text/x-python",
   "name": "python",
   "nbconvert_exporter": "python",
   "pygments_lexer": "ipython3",
   "version": "3.6.3"
  }
 },
 "nbformat": 4,
 "nbformat_minor": 2
}
